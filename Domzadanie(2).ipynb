{
  "nbformat": 4,
  "nbformat_minor": 0,
  "metadata": {
    "colab": {
      "provenance": []
    },
    "kernelspec": {
      "name": "python3",
      "display_name": "Python 3"
    },
    "language_info": {
      "name": "python"
    },
    "widgets": {
      "application/vnd.jupyter.widget-state+json": {
        "8c0fe64b606242df87443abe83ab4635": {
          "model_module": "@jupyter-widgets/controls",
          "model_name": "HBoxModel",
          "model_module_version": "1.5.0",
          "state": {
            "_dom_classes": [],
            "_model_module": "@jupyter-widgets/controls",
            "_model_module_version": "1.5.0",
            "_model_name": "HBoxModel",
            "_view_count": null,
            "_view_module": "@jupyter-widgets/controls",
            "_view_module_version": "1.5.0",
            "_view_name": "HBoxView",
            "box_style": "",
            "children": [
              "IPY_MODEL_ee6b6e7e7bb847ffaa51c9a385c8101f",
              "IPY_MODEL_fcdd8abe1ebe4297bdd57cdcfe848004",
              "IPY_MODEL_0ec86ea825f4437292a9edcb6821f1be"
            ],
            "layout": "IPY_MODEL_7e1fab84aa9f4b8892af246bda4bcaa7"
          }
        },
        "ee6b6e7e7bb847ffaa51c9a385c8101f": {
          "model_module": "@jupyter-widgets/controls",
          "model_name": "HTMLModel",
          "model_module_version": "1.5.0",
          "state": {
            "_dom_classes": [],
            "_model_module": "@jupyter-widgets/controls",
            "_model_module_version": "1.5.0",
            "_model_name": "HTMLModel",
            "_view_count": null,
            "_view_module": "@jupyter-widgets/controls",
            "_view_module_version": "1.5.0",
            "_view_name": "HTMLView",
            "description": "",
            "description_tooltip": null,
            "layout": "IPY_MODEL_2fb3e69cc6e04e2ab8cf637d1e29ea63",
            "placeholder": "​",
            "style": "IPY_MODEL_c9ce74da74004805989a2246f19f5c42",
            "value": "100%"
          }
        },
        "fcdd8abe1ebe4297bdd57cdcfe848004": {
          "model_module": "@jupyter-widgets/controls",
          "model_name": "FloatProgressModel",
          "model_module_version": "1.5.0",
          "state": {
            "_dom_classes": [],
            "_model_module": "@jupyter-widgets/controls",
            "_model_module_version": "1.5.0",
            "_model_name": "FloatProgressModel",
            "_view_count": null,
            "_view_module": "@jupyter-widgets/controls",
            "_view_module_version": "1.5.0",
            "_view_name": "ProgressView",
            "bar_style": "success",
            "description": "",
            "description_tooltip": null,
            "layout": "IPY_MODEL_b0ca911378394bd1b57af2ff29490afa",
            "max": 11713,
            "min": 0,
            "orientation": "horizontal",
            "style": "IPY_MODEL_fad49c3a58174beb9d33bfc7bb1b1898",
            "value": 11713
          }
        },
        "0ec86ea825f4437292a9edcb6821f1be": {
          "model_module": "@jupyter-widgets/controls",
          "model_name": "HTMLModel",
          "model_module_version": "1.5.0",
          "state": {
            "_dom_classes": [],
            "_model_module": "@jupyter-widgets/controls",
            "_model_module_version": "1.5.0",
            "_model_name": "HTMLModel",
            "_view_count": null,
            "_view_module": "@jupyter-widgets/controls",
            "_view_module_version": "1.5.0",
            "_view_name": "HTMLView",
            "description": "",
            "description_tooltip": null,
            "layout": "IPY_MODEL_60048bbd12b34b8bbf67e4db0bf9e04e",
            "placeholder": "​",
            "style": "IPY_MODEL_14c4e4f2166b470c8230f3ea4b7cdc45",
            "value": " 11713/11713 [1:40:17&lt;00:00,  1.92it/s]"
          }
        },
        "7e1fab84aa9f4b8892af246bda4bcaa7": {
          "model_module": "@jupyter-widgets/base",
          "model_name": "LayoutModel",
          "model_module_version": "1.2.0",
          "state": {
            "_model_module": "@jupyter-widgets/base",
            "_model_module_version": "1.2.0",
            "_model_name": "LayoutModel",
            "_view_count": null,
            "_view_module": "@jupyter-widgets/base",
            "_view_module_version": "1.2.0",
            "_view_name": "LayoutView",
            "align_content": null,
            "align_items": null,
            "align_self": null,
            "border": null,
            "bottom": null,
            "display": null,
            "flex": null,
            "flex_flow": null,
            "grid_area": null,
            "grid_auto_columns": null,
            "grid_auto_flow": null,
            "grid_auto_rows": null,
            "grid_column": null,
            "grid_gap": null,
            "grid_row": null,
            "grid_template_areas": null,
            "grid_template_columns": null,
            "grid_template_rows": null,
            "height": null,
            "justify_content": null,
            "justify_items": null,
            "left": null,
            "margin": null,
            "max_height": null,
            "max_width": null,
            "min_height": null,
            "min_width": null,
            "object_fit": null,
            "object_position": null,
            "order": null,
            "overflow": null,
            "overflow_x": null,
            "overflow_y": null,
            "padding": null,
            "right": null,
            "top": null,
            "visibility": null,
            "width": null
          }
        },
        "2fb3e69cc6e04e2ab8cf637d1e29ea63": {
          "model_module": "@jupyter-widgets/base",
          "model_name": "LayoutModel",
          "model_module_version": "1.2.0",
          "state": {
            "_model_module": "@jupyter-widgets/base",
            "_model_module_version": "1.2.0",
            "_model_name": "LayoutModel",
            "_view_count": null,
            "_view_module": "@jupyter-widgets/base",
            "_view_module_version": "1.2.0",
            "_view_name": "LayoutView",
            "align_content": null,
            "align_items": null,
            "align_self": null,
            "border": null,
            "bottom": null,
            "display": null,
            "flex": null,
            "flex_flow": null,
            "grid_area": null,
            "grid_auto_columns": null,
            "grid_auto_flow": null,
            "grid_auto_rows": null,
            "grid_column": null,
            "grid_gap": null,
            "grid_row": null,
            "grid_template_areas": null,
            "grid_template_columns": null,
            "grid_template_rows": null,
            "height": null,
            "justify_content": null,
            "justify_items": null,
            "left": null,
            "margin": null,
            "max_height": null,
            "max_width": null,
            "min_height": null,
            "min_width": null,
            "object_fit": null,
            "object_position": null,
            "order": null,
            "overflow": null,
            "overflow_x": null,
            "overflow_y": null,
            "padding": null,
            "right": null,
            "top": null,
            "visibility": null,
            "width": null
          }
        },
        "c9ce74da74004805989a2246f19f5c42": {
          "model_module": "@jupyter-widgets/controls",
          "model_name": "DescriptionStyleModel",
          "model_module_version": "1.5.0",
          "state": {
            "_model_module": "@jupyter-widgets/controls",
            "_model_module_version": "1.5.0",
            "_model_name": "DescriptionStyleModel",
            "_view_count": null,
            "_view_module": "@jupyter-widgets/base",
            "_view_module_version": "1.2.0",
            "_view_name": "StyleView",
            "description_width": ""
          }
        },
        "b0ca911378394bd1b57af2ff29490afa": {
          "model_module": "@jupyter-widgets/base",
          "model_name": "LayoutModel",
          "model_module_version": "1.2.0",
          "state": {
            "_model_module": "@jupyter-widgets/base",
            "_model_module_version": "1.2.0",
            "_model_name": "LayoutModel",
            "_view_count": null,
            "_view_module": "@jupyter-widgets/base",
            "_view_module_version": "1.2.0",
            "_view_name": "LayoutView",
            "align_content": null,
            "align_items": null,
            "align_self": null,
            "border": null,
            "bottom": null,
            "display": null,
            "flex": null,
            "flex_flow": null,
            "grid_area": null,
            "grid_auto_columns": null,
            "grid_auto_flow": null,
            "grid_auto_rows": null,
            "grid_column": null,
            "grid_gap": null,
            "grid_row": null,
            "grid_template_areas": null,
            "grid_template_columns": null,
            "grid_template_rows": null,
            "height": null,
            "justify_content": null,
            "justify_items": null,
            "left": null,
            "margin": null,
            "max_height": null,
            "max_width": null,
            "min_height": null,
            "min_width": null,
            "object_fit": null,
            "object_position": null,
            "order": null,
            "overflow": null,
            "overflow_x": null,
            "overflow_y": null,
            "padding": null,
            "right": null,
            "top": null,
            "visibility": null,
            "width": null
          }
        },
        "fad49c3a58174beb9d33bfc7bb1b1898": {
          "model_module": "@jupyter-widgets/controls",
          "model_name": "ProgressStyleModel",
          "model_module_version": "1.5.0",
          "state": {
            "_model_module": "@jupyter-widgets/controls",
            "_model_module_version": "1.5.0",
            "_model_name": "ProgressStyleModel",
            "_view_count": null,
            "_view_module": "@jupyter-widgets/base",
            "_view_module_version": "1.2.0",
            "_view_name": "StyleView",
            "bar_color": null,
            "description_width": ""
          }
        },
        "60048bbd12b34b8bbf67e4db0bf9e04e": {
          "model_module": "@jupyter-widgets/base",
          "model_name": "LayoutModel",
          "model_module_version": "1.2.0",
          "state": {
            "_model_module": "@jupyter-widgets/base",
            "_model_module_version": "1.2.0",
            "_model_name": "LayoutModel",
            "_view_count": null,
            "_view_module": "@jupyter-widgets/base",
            "_view_module_version": "1.2.0",
            "_view_name": "LayoutView",
            "align_content": null,
            "align_items": null,
            "align_self": null,
            "border": null,
            "bottom": null,
            "display": null,
            "flex": null,
            "flex_flow": null,
            "grid_area": null,
            "grid_auto_columns": null,
            "grid_auto_flow": null,
            "grid_auto_rows": null,
            "grid_column": null,
            "grid_gap": null,
            "grid_row": null,
            "grid_template_areas": null,
            "grid_template_columns": null,
            "grid_template_rows": null,
            "height": null,
            "justify_content": null,
            "justify_items": null,
            "left": null,
            "margin": null,
            "max_height": null,
            "max_width": null,
            "min_height": null,
            "min_width": null,
            "object_fit": null,
            "object_position": null,
            "order": null,
            "overflow": null,
            "overflow_x": null,
            "overflow_y": null,
            "padding": null,
            "right": null,
            "top": null,
            "visibility": null,
            "width": null
          }
        },
        "14c4e4f2166b470c8230f3ea4b7cdc45": {
          "model_module": "@jupyter-widgets/controls",
          "model_name": "DescriptionStyleModel",
          "model_module_version": "1.5.0",
          "state": {
            "_model_module": "@jupyter-widgets/controls",
            "_model_module_version": "1.5.0",
            "_model_name": "DescriptionStyleModel",
            "_view_count": null,
            "_view_module": "@jupyter-widgets/base",
            "_view_module_version": "1.2.0",
            "_view_name": "StyleView",
            "description_width": ""
          }
        }
      }
    }
  },
  "cells": [
    {
      "cell_type": "code",
      "execution_count": null,
      "metadata": {
        "id": "SNeK342hVwZ4"
      },
      "outputs": [],
      "source": []
    },
    {
      "cell_type": "code",
      "execution_count": null,
      "outputs": [],
      "source": [],
      "metadata": {
        "id": "8fjjLd-zVKjR"
      }
    },
    {
      "cell_type": "code",
      "execution_count": 41,
      "outputs": [],
      "source": [
        "import requests\n",
        "from tqdm.auto import tqdm"
      ],
      "metadata": {
        "pycharm": {
          "name": "#%%\n"
        },
        "ExecuteTime": {
          "end_time": "2023-12-07T13:23:41.474486Z",
          "start_time": "2023-12-07T13:23:41.465949Z"
        },
        "id": "ZGwwqXoDVKjY"
      }
    },
    {
      "cell_type": "markdown",
      "source": [],
      "metadata": {
        "id": "D2GQm3HGqJ9N"
      }
    },
    {
      "cell_type": "markdown",
      "source": [
        "## Шаг 1й - Получение списка объектов"
      ],
      "metadata": {
        "collapsed": false,
        "pycharm": {
          "name": "#%% md\n"
        },
        "id": "yaPeqSYGVKjq"
      }
    },
    {
      "cell_type": "code",
      "source": [
        "offset_ = 1\n",
        "limit_ = 100\n",
        "url = f'https://xn--80az8a.xn--d1aqf.xn--p1ai/%D1%81%D0%B5%D1%80%D0%B2%D0%B8%D1%81%D1%8B/api/kn/object?offset={offset_}&limit={limit_}&sortField=devId.devShortCleanNm&sortType=asc&objStatus=0'\n",
        "res = requests.get(url)\n",
        "objects_data = res.json()\n",
        "objects_data.get('data').get('list')[0]"
      ],
      "metadata": {
        "colab": {
          "base_uri": "https://localhost:8080/"
        },
        "id": "lYxD1oozqMbt",
        "outputId": "c067e829-bd36-40a0-8542-adf30145a699"
      },
      "execution_count": 42,
      "outputs": [
        {
          "output_type": "execute_result",
          "data": {
            "text/plain": [
              "{'hobjId': 39024,\n",
              " 'objId': 13383,\n",
              " 'developer': {'devId': 306,\n",
              "  'shortName': '2МЕН ГРУПП',\n",
              "  'fullName': '2МЕН ГРУПП',\n",
              "  'groupName': '2МЕН ГРУПП ДЕВЕЛОПМЕНТ',\n",
              "  'orgForm': {'id': 1, 'fullForm': 'Акционерное общество', 'shortForm': 'АО'},\n",
              "  'companyGroup': 5776,\n",
              "  'devInn': '7701651356'},\n",
              " 'rpdRegionCd': 72,\n",
              " 'objAddr': 'г Тюмень, ул Профсоюзная, д. 56',\n",
              " 'objFloorMin': 4,\n",
              " 'objFloorMax': 20,\n",
              " 'objElemLivingCnt': 68,\n",
              " 'objReady100PercDt': '2023-12-31',\n",
              " 'objSquareLiving': 6423.85,\n",
              " 'objCompensFundFlg': 1,\n",
              " 'objProblemFlg': 0,\n",
              " 'latitude': 57.1519,\n",
              " 'longitude': 65.5536,\n",
              " 'problemFlag': 'NONE',\n",
              " 'siteStatus': 'Строящиеся',\n",
              " 'objGuarantyEscrowFlg': 0,\n",
              " 'residentialBuildings': 1,\n",
              " 'rpdNum': '72-000095',\n",
              " 'pdId': 28105,\n",
              " 'buildType': 'Жилое',\n",
              " 'objStatus': 0,\n",
              " 'hobjRenderPhotoUrl': 'https://xn--80az8a.xn--d1aqf.xn--p1ai/api/ext/file/6C6B7A3A7DA9AAFAA1F245B09666D97D31445BA1',\n",
              " 'objPriceAVG': 67159,\n",
              " 'objPublDt': '2019-05-31'}"
            ]
          },
          "metadata": {},
          "execution_count": 42
        }
      ]
    },
    {
      "cell_type": "code",
      "execution_count": 43,
      "outputs": [
        {
          "output_type": "execute_result",
          "data": {
            "text/plain": [
              "11713"
            ]
          },
          "metadata": {},
          "execution_count": 43
        }
      ],
      "source": [
        "# Для скачивания данных\n",
        "\n",
        "offset_ = 1 # размер шага\n",
        "limit_ = 100 # количество объектов в выдаче\n",
        "All_objids = []\n",
        "while True:\n",
        "    url = f'https://xn--80az8a.xn--d1aqf.xn--p1ai/%D1%81%D0%B5%D1%80%D0%B2%D0%B8%D1%81%D1%8B/api/kn/object?offset={offset_}&limit={limit_}&sortField=devId.devShortCleanNm&sortType=asc&objStatus=0'\n",
        "    res = requests.get(url)\n",
        "    objects_data = res.json()\n",
        "    objects_list = objects_data.get('data').get(\"list\")\n",
        "    # заполняем список элементами vacancy_ids с помощью метода extend\n",
        "    All_objids.extend(objects_list)\n",
        "    offset_ = offset_ + limit_\n",
        "    if len(objects_list) < 100:\n",
        "      break\n",
        "len(All_objids)"
      ],
      "metadata": {
        "pycharm": {
          "name": "#%%\n"
        },
        "ExecuteTime": {
          "end_time": "2023-12-07T13:23:43.646382Z",
          "start_time": "2023-12-07T13:23:42.721748Z"
        },
        "id": "G1jJsVhyVKju",
        "outputId": "5ae3867c-55b8-48b5-a466-f5b9cd87c931",
        "colab": {
          "base_uri": "https://localhost:8080/"
        }
      }
    },
    {
      "cell_type": "code",
      "source": [
        "objects_list[0]"
      ],
      "metadata": {
        "colab": {
          "base_uri": "https://localhost:8080/"
        },
        "id": "PBfts04MP_Xy",
        "outputId": "97a64fad-26ce-4e6f-fd11-0c167542c0ef"
      },
      "execution_count": 53,
      "outputs": [
        {
          "output_type": "execute_result",
          "data": {
            "text/plain": [
              "{'hobjId': 19242,\n",
              " 'objId': 28070,\n",
              " 'developer': {'devId': 7344,\n",
              "  'shortName': 'ЯРКИЙ МИР',\n",
              "  'fullName': 'ЯРКИЙ МИР',\n",
              "  'groupName': 'ПИК',\n",
              "  'orgForm': {'id': 1, 'fullForm': 'Акционерное общество', 'shortForm': 'АО'},\n",
              "  'companyGroup': 5655,\n",
              "  'devInn': '7722442868'},\n",
              " 'rpdRegionCd': 50,\n",
              " 'objAddr': 'г Котельники, д. 1-5, 24-29 и ул. Новая, д. 1-10',\n",
              " 'objCommercNm': 'Жилой комплекс\"Томилинский бульвар\"',\n",
              " 'objFloorMin': 2,\n",
              " 'objFloorMax': 26,\n",
              " 'objElemLivingCnt': 768,\n",
              " 'objReady100PercDt': '2025-03-31',\n",
              " 'objSquareLiving': 29620.1,\n",
              " 'objCompensFundFlg': 1,\n",
              " 'objProblemFlg': 0,\n",
              " 'latitude': 55.662,\n",
              " 'longitude': 37.8672,\n",
              " 'problemFlag': 'NONE',\n",
              " 'siteStatus': 'Строящиеся',\n",
              " 'objGuarantyEscrowFlg': 0,\n",
              " 'residentialBuildings': 1,\n",
              " 'rpdNum': '50-002026',\n",
              " 'pdId': 99487,\n",
              " 'buildType': 'Жилое',\n",
              " 'objStatus': 0,\n",
              " 'hobjRenderPhotoUrl': 'https://xn--80az8a.xn--d1aqf.xn--p1ai/api/ext/file/6C6B7A3A641E66FA0AF545DAB001863B3C7F60DF',\n",
              " 'objPriceAVG': 181766,\n",
              " 'objPublDt': '2019-05-31'}"
            ]
          },
          "metadata": {},
          "execution_count": 53
        }
      ]
    },
    {
      "cell_type": "code",
      "execution_count": 54,
      "outputs": [
        {
          "output_type": "execute_result",
          "data": {
            "text/plain": [
              "[13383, 13398, 13397, 13391, 10891, 56006, 30292, 18709, 18708, 27803]"
            ]
          },
          "metadata": {},
          "execution_count": 54
        }
      ],
      "source": [
        "objids = [x.get('objId') for x in All_objids]\n",
        "objids[:10]"
      ],
      "metadata": {
        "pycharm": {
          "name": "#%%\n"
        },
        "id": "8sLKfpWWVKj7",
        "colab": {
          "base_uri": "https://localhost:8080/"
        },
        "outputId": "3c538b74-e32d-4706-d64a-7b446273a1f2"
      }
    },
    {
      "cell_type": "code",
      "source": [
        "len(objids)"
      ],
      "metadata": {
        "colab": {
          "base_uri": "https://localhost:8080/"
        },
        "id": "vhcLIZSRctc8",
        "outputId": "24bb6f9b-4a7a-41a6-de99-a1a8249cc23d"
      },
      "execution_count": 55,
      "outputs": [
        {
          "output_type": "execute_result",
          "data": {
            "text/plain": [
              "11713"
            ]
          },
          "metadata": {},
          "execution_count": 55
        }
      ]
    },
    {
      "cell_type": "markdown",
      "source": [
        "# Данные по определенному объекту"
      ],
      "metadata": {
        "collapsed": false,
        "pycharm": {
          "name": "#%% md\n"
        },
        "id": "pLmk_UqRVKkc"
      }
    },
    {
      "cell_type": "code",
      "execution_count": 56,
      "outputs": [],
      "source": [
        "# Для скачивания данных по определенному объекту, нужно добавить его id в конец строки запроса\n",
        "obj_id = 27803\n",
        "url = f'https://xn--80az8a.xn--d1aqf.xn--p1ai/%D1%81%D0%B5%D1%80%D0%B2%D0%B8%D1%81%D1%8B/api/object/{obj_id}'"
      ],
      "metadata": {
        "pycharm": {
          "name": "#%%\n"
        },
        "id": "CvfzlVTeVKke"
      }
    },
    {
      "cell_type": "code",
      "execution_count": 57,
      "outputs": [
        {
          "output_type": "execute_result",
          "data": {
            "text/plain": [
              "{'id': 27803,\n",
              " 'hobjId': 42916,\n",
              " 'pdId': 98026,\n",
              " 'developer': {'devId': 1297,\n",
              "  'devShortCleanNm': 'АКАДЕМПАРК',\n",
              "  'devShortNm': 'АКАДЕМПАРК',\n",
              "  'devFullCleanNm': 'АКЦИОНЕРНОЕ ОБЩЕСТВО ТЕХНОПАРК НОВОСИБИРСКОГО АКАДЕМГОРОДКА',\n",
              "  'problObjCnt': 0,\n",
              "  'buildObjCnt': 7,\n",
              "  'comissObjCnt': 78,\n",
              "  'regRegionDesc': 'Новосибирская область',\n",
              "  'devPhoneNum': '+7 (383) 344-93-13',\n",
              "  'devSite': 'academpark.com',\n",
              "  'devEmail': 'info@academpark.com',\n",
              "  'devInn': '5408252116',\n",
              "  'devOgrn': '1075473006905',\n",
              "  'devKpp': '540801001',\n",
              "  'devLegalAddr': 'Новосибирская область, город Новосибирск, улица Николаева дом д 12',\n",
              "  'devFactAddr': 'Новосибирская обл, г Новосибирск, ул Николаева, д 12',\n",
              "  'lastRpdId': 778847,\n",
              "  'fundGuarantyFlg': 0,\n",
              "  'devOrgRegRegionCd': 54,\n",
              "  'devEmplMainFullNm': 'Верховод Дмитрий Бенидиктович',\n",
              "  'developerGroupName': 'Технопарк Новосибирского Академгородка',\n",
              "  'orgForm': {'id': 3,\n",
              "   'fullForm': 'Непубличное акционерное общество',\n",
              "   'shortForm': 'АО'},\n",
              "  'companyGroupId': 6767,\n",
              "  'objGuarantyEscrowFlg': 0,\n",
              "  'govFundFlg': 0},\n",
              " 'region': 54,\n",
              " 'address': 'п Ложок',\n",
              " 'nameObj': 'Коттеджный поселок \"Горки Академпарка\"',\n",
              " 'floorMin': 3,\n",
              " 'floorMax': 3,\n",
              " 'objElemLivingCnt': 12,\n",
              " 'objReady100PercDt': '2024-03-31',\n",
              " 'wallMaterialShortDesc': 'Кирпич',\n",
              " 'objLkFinishTypeDesc': 'Без отделки',\n",
              " 'objLkFreePlanDesc': 'Есть',\n",
              " 'objElemParkingCnt': 0,\n",
              " 'objSquareLiving': 889.2,\n",
              " 'rpdNum': '54-000833',\n",
              " 'rpdPdfLink': 'https://xn--80az8a.xn--d1aqf.xn--p1ai/api/ext/file/70726F6A6465636C2E646F63732E697A643AA98014D26F03458B9E8497B28205AEE1',\n",
              " 'rpdIssueDttm': '12-10-2023 11:40',\n",
              " 'objLkLatitude': '54.8421',\n",
              " 'objLkLongitude': '83.179',\n",
              " 'objCompensFundFlg': 0,\n",
              " 'objProblemFlg': 0,\n",
              " 'complexShortNm': 'Коттеджный поселок Горки Академпарка',\n",
              " 'objLkClassDesc': 'Типовой',\n",
              " 'loadDttm': '16-12-2023 01:38',\n",
              " 'photoRenderDTO': [{'objId': 27803,\n",
              "   'pdId': 98026,\n",
              "   'rpdId': 778847,\n",
              "   'devId': 1297,\n",
              "   'ordNum': 1,\n",
              "   'objRenderPhotoSize': 14733,\n",
              "   'objRenderPhotoUrl': 'https://xn--80az8a.xn--d1aqf.xn--p1ai/api/ext/file/6C6B7A3A094BD07061B94EC389090F98BC33FC9E',\n",
              "   'objRenderPhotoDttm': '09-12-2021 10:58',\n",
              "   'objRenderPhotoHiddenFlg': 0,\n",
              "   'objRenderPhotoNm': 'Безымянный.jpg',\n",
              "   'objReadyDesc': 'Строится',\n",
              "   'objBuildTypeShortDesc': 'Жилое',\n",
              "   'knFlg': 1,\n",
              "   'loadDttm': '16-12-2023 01:18'}],\n",
              " 'objGuarantyEscrowFlg': 0,\n",
              " 'objectType': 'normal',\n",
              " 'miniUrl': 'https://xn--80az8a.xn--d1aqf.xn--p1ai/api/ext/file/4fcd9a2f-b778-417c-a8dc-f4b69b95ea1f',\n",
              " 'residentialBuildings': 1,\n",
              " 'newBuildingId': 42916,\n",
              " 'objFloorCnt': 3,\n",
              " 'objFlatCnt': 12,\n",
              " 'objFlatSq': '889.2',\n",
              " 'objNonlivElemCnt': 0,\n",
              " 'quartography': {'objLivElem1KCnt': 3,\n",
              "  'objLivElem2KCnt': 3,\n",
              "  'objLivElem3KCnt': 3,\n",
              "  'objLivElem4KCnt': 3,\n",
              "  'objLivElemCnt': 12,\n",
              "  'objLivElemEntrCnt': 2,\n",
              "  'objLivElemEntrFloorAvg': 2},\n",
              " 'objStatus': 0,\n",
              " 'isAvailableWantLiveHere': True,\n",
              " 'objTransferPlanDt': '24-02-2024 12:00',\n",
              " 'objLivCeilingHeight': '3',\n",
              " 'objInfrstrBicycleLaneFlg': 0,\n",
              " 'objInfrstrPlaygrndCnt': 0,\n",
              " 'objInfrstrSportGroundCnt': 0,\n",
              " 'objInfrstrTrashAreaCnt': 0,\n",
              " 'objInfrstrObjPrkngCnt': 0,\n",
              " 'objInfrstrNotObjPrkngCnt': 0,\n",
              " 'objInfrstrRampFlg': 0,\n",
              " 'objInfrstrCurbLoweringFlg': 0,\n",
              " 'objElevatorWheelchairCnt': 0,\n",
              " 'objElevatorPassengerCnt': 0,\n",
              " 'objElevatorCargoCnt': 0,\n",
              " 'objElevatorCargoPassengerCnt': 0,\n",
              " 'nonlivFirstFloor': 0,\n",
              " 'objectTransportInfo': [],\n",
              " 'conclusion': False,\n",
              " 'objLkSaleDepEmail': 'info@academpark.com',\n",
              " 'objGreenHouseFlg': 0,\n",
              " 'objEnergyEffShortDesc': 'B',\n",
              " 'infrastructureIndexValue': 1}"
            ]
          },
          "metadata": {},
          "execution_count": 57
        }
      ],
      "source": [
        "res = requests.get(url)\n",
        "oneobject = res.json()\n",
        "oneobject = oneobject.get('data')\n",
        "oneobject"
      ],
      "metadata": {
        "pycharm": {
          "name": "#%%\n"
        },
        "id": "ZvhEgflmVKlA",
        "outputId": "f8ac22b7-7049-499e-b55d-f6434208eb61",
        "colab": {
          "base_uri": "https://localhost:8080/"
        }
      }
    },
    {
      "cell_type": "code",
      "source": [
        "all_obj = []\n",
        "for obj_id in tqdm(objids):\n",
        "    url = f'https://xn--80az8a.xn--d1aqf.xn--p1ai/%D1%81%D0%B5%D1%80%D0%B2%D0%B8%D1%81%D1%8B/api/object/{obj_id}'\n",
        "    res = requests.get(url)\n",
        "    oneobject = res.json()\n",
        "    all_obj.append(oneobject.get('data'))"
      ],
      "metadata": {
        "colab": {
          "base_uri": "https://localhost:8080/",
          "height": 49,
          "referenced_widgets": [
            "8c0fe64b606242df87443abe83ab4635",
            "ee6b6e7e7bb847ffaa51c9a385c8101f",
            "fcdd8abe1ebe4297bdd57cdcfe848004",
            "0ec86ea825f4437292a9edcb6821f1be",
            "7e1fab84aa9f4b8892af246bda4bcaa7",
            "2fb3e69cc6e04e2ab8cf637d1e29ea63",
            "c9ce74da74004805989a2246f19f5c42",
            "b0ca911378394bd1b57af2ff29490afa",
            "fad49c3a58174beb9d33bfc7bb1b1898",
            "60048bbd12b34b8bbf67e4db0bf9e04e",
            "14c4e4f2166b470c8230f3ea4b7cdc45"
          ]
        },
        "id": "D4HhE4azm2Wm",
        "outputId": "4b46ee5b-bb9d-4240-d630-6a60c4a8d0ce"
      },
      "execution_count": 58,
      "outputs": [
        {
          "output_type": "display_data",
          "data": {
            "text/plain": [
              "  0%|          | 0/11713 [00:00<?, ?it/s]"
            ],
            "application/vnd.jupyter.widget-view+json": {
              "version_major": 2,
              "version_minor": 0,
              "model_id": "8c0fe64b606242df87443abe83ab4635"
            }
          },
          "metadata": {}
        }
      ]
    },
    {
      "cell_type": "code",
      "execution_count": 59,
      "outputs": [],
      "source": [
        "# import pandas as pd"
      ],
      "metadata": {
        "pycharm": {
          "name": "#%%\n"
        },
        "id": "EnpPmjMYVKlF"
      }
    },
    {
      "cell_type": "code",
      "source": [],
      "metadata": {
        "id": "uPNbY4Qxpbej"
      },
      "execution_count": null,
      "outputs": []
    },
    {
      "cell_type": "code",
      "execution_count": 60,
      "outputs": [],
      "source": [
        "import pandas as pd"
      ],
      "metadata": {
        "pycharm": {
          "name": "#%%\n"
        },
        "id": "zZO7Arimpb4S"
      }
    },
    {
      "cell_type": "code",
      "execution_count": 61,
      "outputs": [
        {
          "output_type": "execute_result",
          "data": {
            "text/plain": [
              "      id  hobjId   pdId  region                             address  floorMin  \\\n",
              "0  13383   39024  28105      72     г Тюмень, ул Профсоюзная, д. 56         4   \n",
              "1  13398   37165  28141      72     г Тюмень, ул Профсоюзная, д. 56         7   \n",
              "2  13397   37201  28141      72     г Тюмень, ул Профсоюзная, д. 56         6   \n",
              "3  13391   37219  28101      72     г Тюмень, ул Профсоюзная, д. 56         3   \n",
              "4  10891    6541  23054      35  г Вологда, ул Медуницинская, д. 11        17   \n",
              "\n",
              "   floorMax  objElemLivingCnt objReady100PercDt wallMaterialShortDesc  ...  \\\n",
              "0        20                68        2023-12-31                Другое  ...   \n",
              "1        10                43        2024-12-31                Другое  ...   \n",
              "2        12                65        2024-12-31                Другое  ...   \n",
              "3        12                44        2023-12-31                Другое  ...   \n",
              "4        17               225        2023-12-31                Панель  ...   \n",
              "\n",
              "  metro.time metro.isWalk  metro.colors  complexShortNm airQualityIndexValue  \\\n",
              "0        NaN          NaN           NaN             NaN                  NaN   \n",
              "1        NaN          NaN           NaN             NaN                  NaN   \n",
              "2        NaN          NaN           NaN             NaN                  NaN   \n",
              "3        NaN          NaN           NaN             NaN                  NaN   \n",
              "4        NaN          NaN           NaN             NaN                  NaN   \n",
              "\n",
              "  greenAreaIndexValue developer.bankruptStage.bankruptStageCd  \\\n",
              "0                 NaN                                     NaN   \n",
              "1                 NaN                                     NaN   \n",
              "2                 NaN                                     NaN   \n",
              "3                 NaN                                     NaN   \n",
              "4                 NaN                                     NaN   \n",
              "\n",
              "  developer.bankruptStage.bankruptStageDesc  \\\n",
              "0                                       NaN   \n",
              "1                                       NaN   \n",
              "2                                       NaN   \n",
              "3                                       NaN   \n",
              "4                                       NaN   \n",
              "\n",
              "  developer.bankruptStage.bankruptLawUrl  developer.orgBankruptMsgDttm  \n",
              "0                                    NaN                           NaN  \n",
              "1                                    NaN                           NaN  \n",
              "2                                    NaN                           NaN  \n",
              "3                                    NaN                           NaN  \n",
              "4                                    NaN                           NaN  \n",
              "\n",
              "[5 rows x 110 columns]"
            ],
            "text/html": [
              "\n",
              "  <div id=\"df-f759312d-46dc-404c-b120-c6e885ad4545\" class=\"colab-df-container\">\n",
              "    <div>\n",
              "<style scoped>\n",
              "    .dataframe tbody tr th:only-of-type {\n",
              "        vertical-align: middle;\n",
              "    }\n",
              "\n",
              "    .dataframe tbody tr th {\n",
              "        vertical-align: top;\n",
              "    }\n",
              "\n",
              "    .dataframe thead th {\n",
              "        text-align: right;\n",
              "    }\n",
              "</style>\n",
              "<table border=\"1\" class=\"dataframe\">\n",
              "  <thead>\n",
              "    <tr style=\"text-align: right;\">\n",
              "      <th></th>\n",
              "      <th>id</th>\n",
              "      <th>hobjId</th>\n",
              "      <th>pdId</th>\n",
              "      <th>region</th>\n",
              "      <th>address</th>\n",
              "      <th>floorMin</th>\n",
              "      <th>floorMax</th>\n",
              "      <th>objElemLivingCnt</th>\n",
              "      <th>objReady100PercDt</th>\n",
              "      <th>wallMaterialShortDesc</th>\n",
              "      <th>...</th>\n",
              "      <th>metro.time</th>\n",
              "      <th>metro.isWalk</th>\n",
              "      <th>metro.colors</th>\n",
              "      <th>complexShortNm</th>\n",
              "      <th>airQualityIndexValue</th>\n",
              "      <th>greenAreaIndexValue</th>\n",
              "      <th>developer.bankruptStage.bankruptStageCd</th>\n",
              "      <th>developer.bankruptStage.bankruptStageDesc</th>\n",
              "      <th>developer.bankruptStage.bankruptLawUrl</th>\n",
              "      <th>developer.orgBankruptMsgDttm</th>\n",
              "    </tr>\n",
              "  </thead>\n",
              "  <tbody>\n",
              "    <tr>\n",
              "      <th>0</th>\n",
              "      <td>13383</td>\n",
              "      <td>39024</td>\n",
              "      <td>28105</td>\n",
              "      <td>72</td>\n",
              "      <td>г Тюмень, ул Профсоюзная, д. 56</td>\n",
              "      <td>4</td>\n",
              "      <td>20</td>\n",
              "      <td>68</td>\n",
              "      <td>2023-12-31</td>\n",
              "      <td>Другое</td>\n",
              "      <td>...</td>\n",
              "      <td>NaN</td>\n",
              "      <td>NaN</td>\n",
              "      <td>NaN</td>\n",
              "      <td>NaN</td>\n",
              "      <td>NaN</td>\n",
              "      <td>NaN</td>\n",
              "      <td>NaN</td>\n",
              "      <td>NaN</td>\n",
              "      <td>NaN</td>\n",
              "      <td>NaN</td>\n",
              "    </tr>\n",
              "    <tr>\n",
              "      <th>1</th>\n",
              "      <td>13398</td>\n",
              "      <td>37165</td>\n",
              "      <td>28141</td>\n",
              "      <td>72</td>\n",
              "      <td>г Тюмень, ул Профсоюзная, д. 56</td>\n",
              "      <td>7</td>\n",
              "      <td>10</td>\n",
              "      <td>43</td>\n",
              "      <td>2024-12-31</td>\n",
              "      <td>Другое</td>\n",
              "      <td>...</td>\n",
              "      <td>NaN</td>\n",
              "      <td>NaN</td>\n",
              "      <td>NaN</td>\n",
              "      <td>NaN</td>\n",
              "      <td>NaN</td>\n",
              "      <td>NaN</td>\n",
              "      <td>NaN</td>\n",
              "      <td>NaN</td>\n",
              "      <td>NaN</td>\n",
              "      <td>NaN</td>\n",
              "    </tr>\n",
              "    <tr>\n",
              "      <th>2</th>\n",
              "      <td>13397</td>\n",
              "      <td>37201</td>\n",
              "      <td>28141</td>\n",
              "      <td>72</td>\n",
              "      <td>г Тюмень, ул Профсоюзная, д. 56</td>\n",
              "      <td>6</td>\n",
              "      <td>12</td>\n",
              "      <td>65</td>\n",
              "      <td>2024-12-31</td>\n",
              "      <td>Другое</td>\n",
              "      <td>...</td>\n",
              "      <td>NaN</td>\n",
              "      <td>NaN</td>\n",
              "      <td>NaN</td>\n",
              "      <td>NaN</td>\n",
              "      <td>NaN</td>\n",
              "      <td>NaN</td>\n",
              "      <td>NaN</td>\n",
              "      <td>NaN</td>\n",
              "      <td>NaN</td>\n",
              "      <td>NaN</td>\n",
              "    </tr>\n",
              "    <tr>\n",
              "      <th>3</th>\n",
              "      <td>13391</td>\n",
              "      <td>37219</td>\n",
              "      <td>28101</td>\n",
              "      <td>72</td>\n",
              "      <td>г Тюмень, ул Профсоюзная, д. 56</td>\n",
              "      <td>3</td>\n",
              "      <td>12</td>\n",
              "      <td>44</td>\n",
              "      <td>2023-12-31</td>\n",
              "      <td>Другое</td>\n",
              "      <td>...</td>\n",
              "      <td>NaN</td>\n",
              "      <td>NaN</td>\n",
              "      <td>NaN</td>\n",
              "      <td>NaN</td>\n",
              "      <td>NaN</td>\n",
              "      <td>NaN</td>\n",
              "      <td>NaN</td>\n",
              "      <td>NaN</td>\n",
              "      <td>NaN</td>\n",
              "      <td>NaN</td>\n",
              "    </tr>\n",
              "    <tr>\n",
              "      <th>4</th>\n",
              "      <td>10891</td>\n",
              "      <td>6541</td>\n",
              "      <td>23054</td>\n",
              "      <td>35</td>\n",
              "      <td>г Вологда, ул Медуницинская, д. 11</td>\n",
              "      <td>17</td>\n",
              "      <td>17</td>\n",
              "      <td>225</td>\n",
              "      <td>2023-12-31</td>\n",
              "      <td>Панель</td>\n",
              "      <td>...</td>\n",
              "      <td>NaN</td>\n",
              "      <td>NaN</td>\n",
              "      <td>NaN</td>\n",
              "      <td>NaN</td>\n",
              "      <td>NaN</td>\n",
              "      <td>NaN</td>\n",
              "      <td>NaN</td>\n",
              "      <td>NaN</td>\n",
              "      <td>NaN</td>\n",
              "      <td>NaN</td>\n",
              "    </tr>\n",
              "  </tbody>\n",
              "</table>\n",
              "<p>5 rows × 110 columns</p>\n",
              "</div>\n",
              "    <div class=\"colab-df-buttons\">\n",
              "\n",
              "  <div class=\"colab-df-container\">\n",
              "    <button class=\"colab-df-convert\" onclick=\"convertToInteractive('df-f759312d-46dc-404c-b120-c6e885ad4545')\"\n",
              "            title=\"Convert this dataframe to an interactive table.\"\n",
              "            style=\"display:none;\">\n",
              "\n",
              "  <svg xmlns=\"http://www.w3.org/2000/svg\" height=\"24px\" viewBox=\"0 -960 960 960\">\n",
              "    <path d=\"M120-120v-720h720v720H120Zm60-500h600v-160H180v160Zm220 220h160v-160H400v160Zm0 220h160v-160H400v160ZM180-400h160v-160H180v160Zm440 0h160v-160H620v160ZM180-180h160v-160H180v160Zm440 0h160v-160H620v160Z\"/>\n",
              "  </svg>\n",
              "    </button>\n",
              "\n",
              "  <style>\n",
              "    .colab-df-container {\n",
              "      display:flex;\n",
              "      gap: 12px;\n",
              "    }\n",
              "\n",
              "    .colab-df-convert {\n",
              "      background-color: #E8F0FE;\n",
              "      border: none;\n",
              "      border-radius: 50%;\n",
              "      cursor: pointer;\n",
              "      display: none;\n",
              "      fill: #1967D2;\n",
              "      height: 32px;\n",
              "      padding: 0 0 0 0;\n",
              "      width: 32px;\n",
              "    }\n",
              "\n",
              "    .colab-df-convert:hover {\n",
              "      background-color: #E2EBFA;\n",
              "      box-shadow: 0px 1px 2px rgba(60, 64, 67, 0.3), 0px 1px 3px 1px rgba(60, 64, 67, 0.15);\n",
              "      fill: #174EA6;\n",
              "    }\n",
              "\n",
              "    .colab-df-buttons div {\n",
              "      margin-bottom: 4px;\n",
              "    }\n",
              "\n",
              "    [theme=dark] .colab-df-convert {\n",
              "      background-color: #3B4455;\n",
              "      fill: #D2E3FC;\n",
              "    }\n",
              "\n",
              "    [theme=dark] .colab-df-convert:hover {\n",
              "      background-color: #434B5C;\n",
              "      box-shadow: 0px 1px 3px 1px rgba(0, 0, 0, 0.15);\n",
              "      filter: drop-shadow(0px 1px 2px rgba(0, 0, 0, 0.3));\n",
              "      fill: #FFFFFF;\n",
              "    }\n",
              "  </style>\n",
              "\n",
              "    <script>\n",
              "      const buttonEl =\n",
              "        document.querySelector('#df-f759312d-46dc-404c-b120-c6e885ad4545 button.colab-df-convert');\n",
              "      buttonEl.style.display =\n",
              "        google.colab.kernel.accessAllowed ? 'block' : 'none';\n",
              "\n",
              "      async function convertToInteractive(key) {\n",
              "        const element = document.querySelector('#df-f759312d-46dc-404c-b120-c6e885ad4545');\n",
              "        const dataTable =\n",
              "          await google.colab.kernel.invokeFunction('convertToInteractive',\n",
              "                                                    [key], {});\n",
              "        if (!dataTable) return;\n",
              "\n",
              "        const docLinkHtml = 'Like what you see? Visit the ' +\n",
              "          '<a target=\"_blank\" href=https://colab.research.google.com/notebooks/data_table.ipynb>data table notebook</a>'\n",
              "          + ' to learn more about interactive tables.';\n",
              "        element.innerHTML = '';\n",
              "        dataTable['output_type'] = 'display_data';\n",
              "        await google.colab.output.renderOutput(dataTable, element);\n",
              "        const docLink = document.createElement('div');\n",
              "        docLink.innerHTML = docLinkHtml;\n",
              "        element.appendChild(docLink);\n",
              "      }\n",
              "    </script>\n",
              "  </div>\n",
              "\n",
              "\n",
              "<div id=\"df-896f72bb-d102-4a12-a311-9f37786aeb3d\">\n",
              "  <button class=\"colab-df-quickchart\" onclick=\"quickchart('df-896f72bb-d102-4a12-a311-9f37786aeb3d')\"\n",
              "            title=\"Suggest charts\"\n",
              "            style=\"display:none;\">\n",
              "\n",
              "<svg xmlns=\"http://www.w3.org/2000/svg\" height=\"24px\"viewBox=\"0 0 24 24\"\n",
              "     width=\"24px\">\n",
              "    <g>\n",
              "        <path d=\"M19 3H5c-1.1 0-2 .9-2 2v14c0 1.1.9 2 2 2h14c1.1 0 2-.9 2-2V5c0-1.1-.9-2-2-2zM9 17H7v-7h2v7zm4 0h-2V7h2v10zm4 0h-2v-4h2v4z\"/>\n",
              "    </g>\n",
              "</svg>\n",
              "  </button>\n",
              "\n",
              "<style>\n",
              "  .colab-df-quickchart {\n",
              "      --bg-color: #E8F0FE;\n",
              "      --fill-color: #1967D2;\n",
              "      --hover-bg-color: #E2EBFA;\n",
              "      --hover-fill-color: #174EA6;\n",
              "      --disabled-fill-color: #AAA;\n",
              "      --disabled-bg-color: #DDD;\n",
              "  }\n",
              "\n",
              "  [theme=dark] .colab-df-quickchart {\n",
              "      --bg-color: #3B4455;\n",
              "      --fill-color: #D2E3FC;\n",
              "      --hover-bg-color: #434B5C;\n",
              "      --hover-fill-color: #FFFFFF;\n",
              "      --disabled-bg-color: #3B4455;\n",
              "      --disabled-fill-color: #666;\n",
              "  }\n",
              "\n",
              "  .colab-df-quickchart {\n",
              "    background-color: var(--bg-color);\n",
              "    border: none;\n",
              "    border-radius: 50%;\n",
              "    cursor: pointer;\n",
              "    display: none;\n",
              "    fill: var(--fill-color);\n",
              "    height: 32px;\n",
              "    padding: 0;\n",
              "    width: 32px;\n",
              "  }\n",
              "\n",
              "  .colab-df-quickchart:hover {\n",
              "    background-color: var(--hover-bg-color);\n",
              "    box-shadow: 0 1px 2px rgba(60, 64, 67, 0.3), 0 1px 3px 1px rgba(60, 64, 67, 0.15);\n",
              "    fill: var(--button-hover-fill-color);\n",
              "  }\n",
              "\n",
              "  .colab-df-quickchart-complete:disabled,\n",
              "  .colab-df-quickchart-complete:disabled:hover {\n",
              "    background-color: var(--disabled-bg-color);\n",
              "    fill: var(--disabled-fill-color);\n",
              "    box-shadow: none;\n",
              "  }\n",
              "\n",
              "  .colab-df-spinner {\n",
              "    border: 2px solid var(--fill-color);\n",
              "    border-color: transparent;\n",
              "    border-bottom-color: var(--fill-color);\n",
              "    animation:\n",
              "      spin 1s steps(1) infinite;\n",
              "  }\n",
              "\n",
              "  @keyframes spin {\n",
              "    0% {\n",
              "      border-color: transparent;\n",
              "      border-bottom-color: var(--fill-color);\n",
              "      border-left-color: var(--fill-color);\n",
              "    }\n",
              "    20% {\n",
              "      border-color: transparent;\n",
              "      border-left-color: var(--fill-color);\n",
              "      border-top-color: var(--fill-color);\n",
              "    }\n",
              "    30% {\n",
              "      border-color: transparent;\n",
              "      border-left-color: var(--fill-color);\n",
              "      border-top-color: var(--fill-color);\n",
              "      border-right-color: var(--fill-color);\n",
              "    }\n",
              "    40% {\n",
              "      border-color: transparent;\n",
              "      border-right-color: var(--fill-color);\n",
              "      border-top-color: var(--fill-color);\n",
              "    }\n",
              "    60% {\n",
              "      border-color: transparent;\n",
              "      border-right-color: var(--fill-color);\n",
              "    }\n",
              "    80% {\n",
              "      border-color: transparent;\n",
              "      border-right-color: var(--fill-color);\n",
              "      border-bottom-color: var(--fill-color);\n",
              "    }\n",
              "    90% {\n",
              "      border-color: transparent;\n",
              "      border-bottom-color: var(--fill-color);\n",
              "    }\n",
              "  }\n",
              "</style>\n",
              "\n",
              "  <script>\n",
              "    async function quickchart(key) {\n",
              "      const quickchartButtonEl =\n",
              "        document.querySelector('#' + key + ' button');\n",
              "      quickchartButtonEl.disabled = true;  // To prevent multiple clicks.\n",
              "      quickchartButtonEl.classList.add('colab-df-spinner');\n",
              "      try {\n",
              "        const charts = await google.colab.kernel.invokeFunction(\n",
              "            'suggestCharts', [key], {});\n",
              "      } catch (error) {\n",
              "        console.error('Error during call to suggestCharts:', error);\n",
              "      }\n",
              "      quickchartButtonEl.classList.remove('colab-df-spinner');\n",
              "      quickchartButtonEl.classList.add('colab-df-quickchart-complete');\n",
              "    }\n",
              "    (() => {\n",
              "      let quickchartButtonEl =\n",
              "        document.querySelector('#df-896f72bb-d102-4a12-a311-9f37786aeb3d button');\n",
              "      quickchartButtonEl.style.display =\n",
              "        google.colab.kernel.accessAllowed ? 'block' : 'none';\n",
              "    })();\n",
              "  </script>\n",
              "</div>\n",
              "    </div>\n",
              "  </div>\n"
            ]
          },
          "metadata": {},
          "execution_count": 61
        }
      ],
      "source": [
        "df = pd.json_normalize(all_obj)\n",
        "df.head()"
      ],
      "metadata": {
        "pycharm": {
          "name": "#%%\n"
        },
        "id": "LHlS_M62VKlK",
        "colab": {
          "base_uri": "https://localhost:8080/",
          "height": 429
        },
        "outputId": "2867cda4-462a-4128-fb74-5d9191939964"
      }
    },
    {
      "cell_type": "code",
      "source": [
        "df.shape\n"
      ],
      "metadata": {
        "colab": {
          "base_uri": "https://localhost:8080/"
        },
        "id": "S4FWN9cfo0W_",
        "outputId": "a5f4fa70-f47f-4208-dd00-583aaf4e30f0"
      },
      "execution_count": 62,
      "outputs": [
        {
          "output_type": "execute_result",
          "data": {
            "text/plain": [
              "(11713, 110)"
            ]
          },
          "metadata": {},
          "execution_count": 62
        }
      ]
    },
    {
      "cell_type": "code",
      "source": [
        "\n",
        "# Сохраняем в csv файл\n",
        "df.to_csv('objects.csv', index=False)\n",
        "# Сохраняем в эксель-файл\n",
        "df.to_excel('objects.xlsx', index=False)\n",
        "# Сохраняем в файл в формате pickle\n",
        "df.to_pickle('objects.pkl')\n",
        "\n"
      ],
      "metadata": {
        "id": "TRxFCd3Ao3cf"
      },
      "execution_count": 63,
      "outputs": []
    },
    {
      "cell_type": "code",
      "source": [],
      "metadata": {
        "id": "QvUesXbJo3Wo"
      },
      "execution_count": null,
      "outputs": []
    },
    {
      "cell_type": "code",
      "source": [],
      "metadata": {
        "id": "Y8HFrx-so3Jm"
      },
      "execution_count": null,
      "outputs": []
    }
  ]
}