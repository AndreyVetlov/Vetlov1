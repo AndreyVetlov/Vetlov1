{
  "nbformat": 4,
  "nbformat_minor": 0,
  "metadata": {
    "colab": {
      "provenance": []
    },
    "kernelspec": {
      "name": "python3",
      "display_name": "Python 3"
    },
    "language_info": {
      "name": "python"
    },
    "widgets": {
      "application/vnd.jupyter.widget-state+json": {
        "f88c8fe82dd740688d07e00b1fa5392b": {
          "model_module": "@jupyter-widgets/controls",
          "model_name": "HBoxModel",
          "model_module_version": "1.5.0",
          "state": {
            "_dom_classes": [],
            "_model_module": "@jupyter-widgets/controls",
            "_model_module_version": "1.5.0",
            "_model_name": "HBoxModel",
            "_view_count": null,
            "_view_module": "@jupyter-widgets/controls",
            "_view_module_version": "1.5.0",
            "_view_name": "HBoxView",
            "box_style": "",
            "children": [
              "IPY_MODEL_e5a7ccbda17242bb8b2b9a72302d0aa8",
              "IPY_MODEL_ca9cedd9772947b1ad9568312171ba44",
              "IPY_MODEL_d056f87fc3b74a90923352401fcb3adb"
            ],
            "layout": "IPY_MODEL_8b7bc33b06664ed286ad309d3cba898a"
          }
        },
        "e5a7ccbda17242bb8b2b9a72302d0aa8": {
          "model_module": "@jupyter-widgets/controls",
          "model_name": "HTMLModel",
          "model_module_version": "1.5.0",
          "state": {
            "_dom_classes": [],
            "_model_module": "@jupyter-widgets/controls",
            "_model_module_version": "1.5.0",
            "_model_name": "HTMLModel",
            "_view_count": null,
            "_view_module": "@jupyter-widgets/controls",
            "_view_module_version": "1.5.0",
            "_view_name": "HTMLView",
            "description": "",
            "description_tooltip": null,
            "layout": "IPY_MODEL_1222681b44c04785b7e4fdb51dd9c821",
            "placeholder": "​",
            "style": "IPY_MODEL_1bf3716c9f06493596e156634799497b",
            "value": "100%"
          }
        },
        "ca9cedd9772947b1ad9568312171ba44": {
          "model_module": "@jupyter-widgets/controls",
          "model_name": "FloatProgressModel",
          "model_module_version": "1.5.0",
          "state": {
            "_dom_classes": [],
            "_model_module": "@jupyter-widgets/controls",
            "_model_module_version": "1.5.0",
            "_model_name": "FloatProgressModel",
            "_view_count": null,
            "_view_module": "@jupyter-widgets/controls",
            "_view_module_version": "1.5.0",
            "_view_name": "ProgressView",
            "bar_style": "success",
            "description": "",
            "description_tooltip": null,
            "layout": "IPY_MODEL_cbf137751d704834a413c3cf88a2e974",
            "max": 100,
            "min": 0,
            "orientation": "horizontal",
            "style": "IPY_MODEL_f6fcc750b32742c68004eb7b30b1aa6c",
            "value": 100
          }
        },
        "d056f87fc3b74a90923352401fcb3adb": {
          "model_module": "@jupyter-widgets/controls",
          "model_name": "HTMLModel",
          "model_module_version": "1.5.0",
          "state": {
            "_dom_classes": [],
            "_model_module": "@jupyter-widgets/controls",
            "_model_module_version": "1.5.0",
            "_model_name": "HTMLModel",
            "_view_count": null,
            "_view_module": "@jupyter-widgets/controls",
            "_view_module_version": "1.5.0",
            "_view_name": "HTMLView",
            "description": "",
            "description_tooltip": null,
            "layout": "IPY_MODEL_763d54de6883472ab04bb97ffd274e38",
            "placeholder": "​",
            "style": "IPY_MODEL_7f1e1cbc5eb444db86258a751471cc62",
            "value": " 100/100 [00:26&lt;00:00,  3.54it/s]"
          }
        },
        "8b7bc33b06664ed286ad309d3cba898a": {
          "model_module": "@jupyter-widgets/base",
          "model_name": "LayoutModel",
          "model_module_version": "1.2.0",
          "state": {
            "_model_module": "@jupyter-widgets/base",
            "_model_module_version": "1.2.0",
            "_model_name": "LayoutModel",
            "_view_count": null,
            "_view_module": "@jupyter-widgets/base",
            "_view_module_version": "1.2.0",
            "_view_name": "LayoutView",
            "align_content": null,
            "align_items": null,
            "align_self": null,
            "border": null,
            "bottom": null,
            "display": null,
            "flex": null,
            "flex_flow": null,
            "grid_area": null,
            "grid_auto_columns": null,
            "grid_auto_flow": null,
            "grid_auto_rows": null,
            "grid_column": null,
            "grid_gap": null,
            "grid_row": null,
            "grid_template_areas": null,
            "grid_template_columns": null,
            "grid_template_rows": null,
            "height": null,
            "justify_content": null,
            "justify_items": null,
            "left": null,
            "margin": null,
            "max_height": null,
            "max_width": null,
            "min_height": null,
            "min_width": null,
            "object_fit": null,
            "object_position": null,
            "order": null,
            "overflow": null,
            "overflow_x": null,
            "overflow_y": null,
            "padding": null,
            "right": null,
            "top": null,
            "visibility": null,
            "width": null
          }
        },
        "1222681b44c04785b7e4fdb51dd9c821": {
          "model_module": "@jupyter-widgets/base",
          "model_name": "LayoutModel",
          "model_module_version": "1.2.0",
          "state": {
            "_model_module": "@jupyter-widgets/base",
            "_model_module_version": "1.2.0",
            "_model_name": "LayoutModel",
            "_view_count": null,
            "_view_module": "@jupyter-widgets/base",
            "_view_module_version": "1.2.0",
            "_view_name": "LayoutView",
            "align_content": null,
            "align_items": null,
            "align_self": null,
            "border": null,
            "bottom": null,
            "display": null,
            "flex": null,
            "flex_flow": null,
            "grid_area": null,
            "grid_auto_columns": null,
            "grid_auto_flow": null,
            "grid_auto_rows": null,
            "grid_column": null,
            "grid_gap": null,
            "grid_row": null,
            "grid_template_areas": null,
            "grid_template_columns": null,
            "grid_template_rows": null,
            "height": null,
            "justify_content": null,
            "justify_items": null,
            "left": null,
            "margin": null,
            "max_height": null,
            "max_width": null,
            "min_height": null,
            "min_width": null,
            "object_fit": null,
            "object_position": null,
            "order": null,
            "overflow": null,
            "overflow_x": null,
            "overflow_y": null,
            "padding": null,
            "right": null,
            "top": null,
            "visibility": null,
            "width": null
          }
        },
        "1bf3716c9f06493596e156634799497b": {
          "model_module": "@jupyter-widgets/controls",
          "model_name": "DescriptionStyleModel",
          "model_module_version": "1.5.0",
          "state": {
            "_model_module": "@jupyter-widgets/controls",
            "_model_module_version": "1.5.0",
            "_model_name": "DescriptionStyleModel",
            "_view_count": null,
            "_view_module": "@jupyter-widgets/base",
            "_view_module_version": "1.2.0",
            "_view_name": "StyleView",
            "description_width": ""
          }
        },
        "cbf137751d704834a413c3cf88a2e974": {
          "model_module": "@jupyter-widgets/base",
          "model_name": "LayoutModel",
          "model_module_version": "1.2.0",
          "state": {
            "_model_module": "@jupyter-widgets/base",
            "_model_module_version": "1.2.0",
            "_model_name": "LayoutModel",
            "_view_count": null,
            "_view_module": "@jupyter-widgets/base",
            "_view_module_version": "1.2.0",
            "_view_name": "LayoutView",
            "align_content": null,
            "align_items": null,
            "align_self": null,
            "border": null,
            "bottom": null,
            "display": null,
            "flex": null,
            "flex_flow": null,
            "grid_area": null,
            "grid_auto_columns": null,
            "grid_auto_flow": null,
            "grid_auto_rows": null,
            "grid_column": null,
            "grid_gap": null,
            "grid_row": null,
            "grid_template_areas": null,
            "grid_template_columns": null,
            "grid_template_rows": null,
            "height": null,
            "justify_content": null,
            "justify_items": null,
            "left": null,
            "margin": null,
            "max_height": null,
            "max_width": null,
            "min_height": null,
            "min_width": null,
            "object_fit": null,
            "object_position": null,
            "order": null,
            "overflow": null,
            "overflow_x": null,
            "overflow_y": null,
            "padding": null,
            "right": null,
            "top": null,
            "visibility": null,
            "width": null
          }
        },
        "f6fcc750b32742c68004eb7b30b1aa6c": {
          "model_module": "@jupyter-widgets/controls",
          "model_name": "ProgressStyleModel",
          "model_module_version": "1.5.0",
          "state": {
            "_model_module": "@jupyter-widgets/controls",
            "_model_module_version": "1.5.0",
            "_model_name": "ProgressStyleModel",
            "_view_count": null,
            "_view_module": "@jupyter-widgets/base",
            "_view_module_version": "1.2.0",
            "_view_name": "StyleView",
            "bar_color": null,
            "description_width": ""
          }
        },
        "763d54de6883472ab04bb97ffd274e38": {
          "model_module": "@jupyter-widgets/base",
          "model_name": "LayoutModel",
          "model_module_version": "1.2.0",
          "state": {
            "_model_module": "@jupyter-widgets/base",
            "_model_module_version": "1.2.0",
            "_model_name": "LayoutModel",
            "_view_count": null,
            "_view_module": "@jupyter-widgets/base",
            "_view_module_version": "1.2.0",
            "_view_name": "LayoutView",
            "align_content": null,
            "align_items": null,
            "align_self": null,
            "border": null,
            "bottom": null,
            "display": null,
            "flex": null,
            "flex_flow": null,
            "grid_area": null,
            "grid_auto_columns": null,
            "grid_auto_flow": null,
            "grid_auto_rows": null,
            "grid_column": null,
            "grid_gap": null,
            "grid_row": null,
            "grid_template_areas": null,
            "grid_template_columns": null,
            "grid_template_rows": null,
            "height": null,
            "justify_content": null,
            "justify_items": null,
            "left": null,
            "margin": null,
            "max_height": null,
            "max_width": null,
            "min_height": null,
            "min_width": null,
            "object_fit": null,
            "object_position": null,
            "order": null,
            "overflow": null,
            "overflow_x": null,
            "overflow_y": null,
            "padding": null,
            "right": null,
            "top": null,
            "visibility": null,
            "width": null
          }
        },
        "7f1e1cbc5eb444db86258a751471cc62": {
          "model_module": "@jupyter-widgets/controls",
          "model_name": "DescriptionStyleModel",
          "model_module_version": "1.5.0",
          "state": {
            "_model_module": "@jupyter-widgets/controls",
            "_model_module_version": "1.5.0",
            "_model_name": "DescriptionStyleModel",
            "_view_count": null,
            "_view_module": "@jupyter-widgets/base",
            "_view_module_version": "1.2.0",
            "_view_name": "StyleView",
            "description_width": ""
          }
        }
      }
    }
  },
  "cells": [
    {
      "cell_type": "code",
      "execution_count": 1,
      "metadata": {
        "id": "SNeK342hVwZ4"
      },
      "outputs": [],
      "source": []
    },
    {
      "cell_type": "code",
      "execution_count": 1,
      "outputs": [],
      "source": [],
      "metadata": {
        "id": "8fjjLd-zVKjR"
      }
    },
    {
      "cell_type": "code",
      "execution_count": 2,
      "outputs": [],
      "source": [
        "import requests\n",
        "from tqdm.auto import tqdm"
      ],
      "metadata": {
        "pycharm": {
          "name": "#%%\n"
        },
        "ExecuteTime": {
          "end_time": "2023-12-07T13:23:41.474486Z",
          "start_time": "2023-12-07T13:23:41.465949Z"
        },
        "id": "ZGwwqXoDVKjY"
      }
    },
    {
      "cell_type": "markdown",
      "source": [
        "## Шаг 1й - Получение списка объектов"
      ],
      "metadata": {
        "collapsed": false,
        "pycharm": {
          "name": "#%% md\n"
        },
        "id": "yaPeqSYGVKjq"
      }
    },
    {
      "cell_type": "code",
      "execution_count": 3,
      "outputs": [
        {
          "output_type": "execute_result",
          "data": {
            "text/plain": [
              "{'hobjId': 37201,\n",
              " 'objId': 13397,\n",
              " 'developer': {'devId': 306,\n",
              "  'shortName': '2МЕН ГРУПП',\n",
              "  'fullName': '2МЕН ГРУПП',\n",
              "  'groupName': '2МЕН ГРУПП ДЕВЕЛОПМЕНТ',\n",
              "  'orgForm': {'id': 1, 'fullForm': 'Акционерное общество', 'shortForm': 'АО'},\n",
              "  'companyGroup': 5776,\n",
              "  'devInn': '7701651356'},\n",
              " 'rpdRegionCd': 72,\n",
              " 'objAddr': 'г Тюмень, ул Профсоюзная, д. 56',\n",
              " 'objFloorMin': 6,\n",
              " 'objFloorMax': 12,\n",
              " 'objElemLivingCnt': 65,\n",
              " 'objReady100PercDt': '2024-12-31',\n",
              " 'objSquareLiving': 6251.1,\n",
              " 'objCompensFundFlg': 0,\n",
              " 'objProblemFlg': 0,\n",
              " 'latitude': 57.1519,\n",
              " 'longitude': 65.5544,\n",
              " 'problemFlag': 'NONE',\n",
              " 'siteStatus': 'Строящиеся',\n",
              " 'objGuarantyEscrowFlg': 0,\n",
              " 'residentialBuildings': 1,\n",
              " 'rpdNum': '72-000097',\n",
              " 'pdId': 28141,\n",
              " 'buildType': 'Жилое',\n",
              " 'objStatus': 0,\n",
              " 'hobjRenderPhotoUrl': 'https://xn--80az8a.xn--d1aqf.xn--p1ai/api/ext/file/6C6B7A3AA65FDD2568DB4A839F677DFF0EA805A6',\n",
              " 'objPriceAVG': 47163,\n",
              " 'objPublDt': '2019-05-31'}"
            ]
          },
          "metadata": {},
          "execution_count": 3
        }
      ],
      "source": [
        "# Для скачивания данных\n",
        "\n",
        "offset_ = 1 # размер шага\n",
        "limit_ = 100 # количество объектов в выдаче\n",
        "url = f'https://xn--80az8a.xn--d1aqf.xn--p1ai/%D1%81%D0%B5%D1%80%D0%B2%D0%B8%D1%81%D1%8B/api/kn/object?offset={offset_}&limit={limit_}&sortField=devId.devShortCleanNm&sortType=asc&objStatus=0'\n",
        "res = requests.get(url)\n",
        "objects_data = res.json()\n",
        "objects_data.get('data').get('list')[0]"
      ],
      "metadata": {
        "pycharm": {
          "name": "#%%\n"
        },
        "ExecuteTime": {
          "end_time": "2023-12-07T13:23:43.646382Z",
          "start_time": "2023-12-07T13:23:42.721748Z"
        },
        "id": "G1jJsVhyVKju",
        "outputId": "59776e2d-70e3-4497-cf91-db5372afceed",
        "colab": {
          "base_uri": "https://localhost:8080/"
        }
      }
    },
    {
      "cell_type": "code",
      "execution_count": 4,
      "outputs": [
        {
          "output_type": "execute_result",
          "data": {
            "text/plain": [
              "[13397, 13398, 13391, 13383, 10891, 56006, 30292, 18708, 18709, 27803]"
            ]
          },
          "metadata": {},
          "execution_count": 4
        }
      ],
      "source": [
        "objects_list = objects_data.get('data').get('list')\n",
        "objids = [x.get('objId') for x in objects_list]\n",
        "objids[:10]"
      ],
      "metadata": {
        "pycharm": {
          "name": "#%%\n"
        },
        "id": "8sLKfpWWVKj7",
        "colab": {
          "base_uri": "https://localhost:8080/"
        },
        "outputId": "5f90fbb0-3e46-4831-9460-df89000ed79b"
      }
    },
    {
      "cell_type": "code",
      "source": [
        "len(objids)"
      ],
      "metadata": {
        "colab": {
          "base_uri": "https://localhost:8080/"
        },
        "id": "vhcLIZSRctc8",
        "outputId": "850f341a-4d5a-4710-9c85-a1efcdde16d1"
      },
      "execution_count": 5,
      "outputs": [
        {
          "output_type": "execute_result",
          "data": {
            "text/plain": [
              "100"
            ]
          },
          "metadata": {},
          "execution_count": 5
        }
      ]
    },
    {
      "cell_type": "markdown",
      "source": [
        "# Данные по определенному объекту"
      ],
      "metadata": {
        "collapsed": false,
        "pycharm": {
          "name": "#%% md\n"
        },
        "id": "pLmk_UqRVKkc"
      }
    },
    {
      "cell_type": "code",
      "execution_count": 6,
      "outputs": [],
      "source": [
        "# Для скачивания данных по определенному объекту, нужно добавить его id в конец строки запроса\n",
        "obj_id = 27803\n",
        "url = f'https://xn--80az8a.xn--d1aqf.xn--p1ai/%D1%81%D0%B5%D1%80%D0%B2%D0%B8%D1%81%D1%8B/api/object/{obj_id}'"
      ],
      "metadata": {
        "pycharm": {
          "name": "#%%\n"
        },
        "id": "CvfzlVTeVKke"
      }
    },
    {
      "cell_type": "code",
      "execution_count": 7,
      "outputs": [
        {
          "output_type": "execute_result",
          "data": {
            "text/plain": [
              "{'data': {'id': 27803,\n",
              "  'hobjId': 42916,\n",
              "  'pdId': 98026,\n",
              "  'developer': {'devId': 1297,\n",
              "   'devShortCleanNm': 'АКАДЕМПАРК',\n",
              "   'devShortNm': 'АКАДЕМПАРК',\n",
              "   'devFullCleanNm': 'АКЦИОНЕРНОЕ ОБЩЕСТВО ТЕХНОПАРК НОВОСИБИРСКОГО АКАДЕМГОРОДКА',\n",
              "   'problObjCnt': 0,\n",
              "   'buildObjCnt': 7,\n",
              "   'comissObjCnt': 78,\n",
              "   'regRegionDesc': 'Новосибирская область',\n",
              "   'devPhoneNum': '+7 (383) 344-93-13',\n",
              "   'devSite': 'academpark.com',\n",
              "   'devEmail': 'info@academpark.com',\n",
              "   'devInn': '5408252116',\n",
              "   'devOgrn': '1075473006905',\n",
              "   'devKpp': '540801001',\n",
              "   'devLegalAddr': 'Новосибирская область, город Новосибирск, улица Николаева дом д 12',\n",
              "   'devFactAddr': 'Новосибирская обл, г Новосибирск, ул Николаева, д 12',\n",
              "   'lastRpdId': 778847,\n",
              "   'fundGuarantyFlg': 0,\n",
              "   'devOrgRegRegionCd': 54,\n",
              "   'devEmplMainFullNm': 'Верховод Дмитрий Бенидиктович',\n",
              "   'developerGroupName': 'Технопарк Новосибирского Академгородка',\n",
              "   'orgForm': {'id': 3,\n",
              "    'fullForm': 'Непубличное акционерное общество',\n",
              "    'shortForm': 'АО'},\n",
              "   'companyGroupId': 6767,\n",
              "   'objGuarantyEscrowFlg': 0,\n",
              "   'govFundFlg': 0},\n",
              "  'region': 54,\n",
              "  'address': 'п Ложок',\n",
              "  'nameObj': 'Коттеджный поселок \"Горки Академпарка\"',\n",
              "  'floorMin': 3,\n",
              "  'floorMax': 3,\n",
              "  'objElemLivingCnt': 12,\n",
              "  'objReady100PercDt': '2024-03-31',\n",
              "  'wallMaterialShortDesc': 'Кирпич',\n",
              "  'objLkFinishTypeDesc': 'Без отделки',\n",
              "  'objLkFreePlanDesc': 'Есть',\n",
              "  'objElemParkingCnt': 0,\n",
              "  'objSquareLiving': 889.2,\n",
              "  'rpdNum': '54-000833',\n",
              "  'rpdPdfLink': 'https://xn--80az8a.xn--d1aqf.xn--p1ai/api/ext/file/70726F6A6465636C2E646F63732E697A643AA98014D26F03458B9E8497B28205AEE1',\n",
              "  'rpdIssueDttm': '12-10-2023 11:40',\n",
              "  'objLkLatitude': '54.8421',\n",
              "  'objLkLongitude': '83.179',\n",
              "  'objCompensFundFlg': 0,\n",
              "  'objProblemFlg': 0,\n",
              "  'complexShortNm': 'Коттеджный поселок Горки Академпарка',\n",
              "  'objLkClassDesc': 'Типовой',\n",
              "  'loadDttm': '11-12-2023 01:37',\n",
              "  'photoRenderDTO': [{'objId': 27803,\n",
              "    'pdId': 98026,\n",
              "    'rpdId': 778847,\n",
              "    'devId': 1297,\n",
              "    'ordNum': 1,\n",
              "    'objRenderPhotoSize': 14733,\n",
              "    'objRenderPhotoUrl': 'https://xn--80az8a.xn--d1aqf.xn--p1ai/api/ext/file/6C6B7A3A094BD07061B94EC389090F98BC33FC9E',\n",
              "    'objRenderPhotoDttm': '09-12-2021 10:58',\n",
              "    'objRenderPhotoHiddenFlg': 0,\n",
              "    'objRenderPhotoNm': 'Безымянный.jpg',\n",
              "    'objReadyDesc': 'Строится',\n",
              "    'objBuildTypeShortDesc': 'Жилое',\n",
              "    'knFlg': 1,\n",
              "    'loadDttm': '11-12-2023 01:15'}],\n",
              "  'objGuarantyEscrowFlg': 0,\n",
              "  'objectType': 'normal',\n",
              "  'miniUrl': 'https://xn--80az8a.xn--d1aqf.xn--p1ai/api/ext/file/4fcd9a2f-b778-417c-a8dc-f4b69b95ea1f',\n",
              "  'residentialBuildings': 1,\n",
              "  'newBuildingId': 42916,\n",
              "  'objFloorCnt': 3,\n",
              "  'objFlatCnt': 12,\n",
              "  'objFlatSq': '889.2',\n",
              "  'objNonlivElemCnt': 0,\n",
              "  'quartography': {'objLivElem1KCnt': 3,\n",
              "   'objLivElem2KCnt': 3,\n",
              "   'objLivElem3KCnt': 3,\n",
              "   'objLivElem4KCnt': 3,\n",
              "   'objLivElemCnt': 12,\n",
              "   'objLivElemEntrCnt': 2,\n",
              "   'objLivElemEntrFloorAvg': 2},\n",
              "  'objStatus': 0,\n",
              "  'isAvailableWantLiveHere': True,\n",
              "  'objTransferPlanDt': '24-02-2024 12:00',\n",
              "  'objLivCeilingHeight': '3',\n",
              "  'objInfrstrBicycleLaneFlg': 0,\n",
              "  'objInfrstrPlaygrndCnt': 0,\n",
              "  'objInfrstrSportGroundCnt': 0,\n",
              "  'objInfrstrTrashAreaCnt': 0,\n",
              "  'objInfrstrObjPrkngCnt': 0,\n",
              "  'objInfrstrNotObjPrkngCnt': 0,\n",
              "  'objInfrstrRampFlg': 0,\n",
              "  'objInfrstrCurbLoweringFlg': 0,\n",
              "  'objElevatorWheelchairCnt': 0,\n",
              "  'objElevatorPassengerCnt': 0,\n",
              "  'objElevatorCargoCnt': 0,\n",
              "  'objElevatorCargoPassengerCnt': 0,\n",
              "  'nonlivFirstFloor': 0,\n",
              "  'objectTransportInfo': [],\n",
              "  'conclusion': False,\n",
              "  'objLkSaleDepEmail': 'info@academpark.com',\n",
              "  'objGreenHouseFlg': 0,\n",
              "  'objEnergyEffShortDesc': 'B',\n",
              "  'infrastructureIndexValue': 1},\n",
              " 'errcode': '0'}"
            ]
          },
          "metadata": {},
          "execution_count": 7
        }
      ],
      "source": [
        "res = requests.get(url)\n",
        "oneobject = res.json()\n",
        "oneobject"
      ],
      "metadata": {
        "pycharm": {
          "name": "#%%\n"
        },
        "id": "ZvhEgflmVKlA",
        "outputId": "0c8d62bc-c2b0-4067-e08c-8804f333ea6c",
        "colab": {
          "base_uri": "https://localhost:8080/"
        }
      }
    },
    {
      "cell_type": "code",
      "source": [
        "all_obj = []\n",
        "for obj_id in tqdm(objids):\n",
        "    url = f'https://xn--80az8a.xn--d1aqf.xn--p1ai/%D1%81%D0%B5%D1%80%D0%B2%D0%B8%D1%81%D1%8B/api/object/{obj_id}'\n",
        "    res = requests.get(url)\n",
        "    oneobject = res.json()\n",
        "    all_obj.append(oneobject)"
      ],
      "metadata": {
        "colab": {
          "base_uri": "https://localhost:8080/",
          "height": 49,
          "referenced_widgets": [
            "f88c8fe82dd740688d07e00b1fa5392b",
            "e5a7ccbda17242bb8b2b9a72302d0aa8",
            "ca9cedd9772947b1ad9568312171ba44",
            "d056f87fc3b74a90923352401fcb3adb",
            "8b7bc33b06664ed286ad309d3cba898a",
            "1222681b44c04785b7e4fdb51dd9c821",
            "1bf3716c9f06493596e156634799497b",
            "cbf137751d704834a413c3cf88a2e974",
            "f6fcc750b32742c68004eb7b30b1aa6c",
            "763d54de6883472ab04bb97ffd274e38",
            "7f1e1cbc5eb444db86258a751471cc62"
          ]
        },
        "id": "D4HhE4azm2Wm",
        "outputId": "d1972d32-c396-4393-d9c4-1c8452795dc6"
      },
      "execution_count": 8,
      "outputs": [
        {
          "output_type": "display_data",
          "data": {
            "text/plain": [
              "  0%|          | 0/100 [00:00<?, ?it/s]"
            ],
            "application/vnd.jupyter.widget-view+json": {
              "version_major": 2,
              "version_minor": 0,
              "model_id": "f88c8fe82dd740688d07e00b1fa5392b"
            }
          },
          "metadata": {}
        }
      ]
    },
    {
      "cell_type": "code",
      "execution_count": 9,
      "outputs": [],
      "source": [
        "# import pandas as pd"
      ],
      "metadata": {
        "pycharm": {
          "name": "#%%\n"
        },
        "id": "EnpPmjMYVKlF"
      }
    },
    {
      "cell_type": "code",
      "source": [],
      "metadata": {
        "id": "uPNbY4Qxpbej"
      },
      "execution_count": null,
      "outputs": []
    },
    {
      "cell_type": "code",
      "execution_count": 10,
      "outputs": [],
      "source": [
        "import pandas as pd"
      ],
      "metadata": {
        "pycharm": {
          "name": "#%%\n"
        },
        "id": "zZO7Arimpb4S"
      }
    },
    {
      "cell_type": "code",
      "execution_count": 11,
      "outputs": [
        {
          "output_type": "execute_result",
          "data": {
            "text/plain": [
              "  errcode  data.id  data.hobjId  data.pdId  data.developer.devId  \\\n",
              "0       0    13397        37201      28141                   306   \n",
              "1       0    13398        37165      28141                   306   \n",
              "2       0    13391        37219      28101                   306   \n",
              "3       0    13383        39024      28105                   306   \n",
              "4       0    10891         6541      23054                  3006   \n",
              "\n",
              "  data.developer.devShortCleanNm data.developer.devShortNm  \\\n",
              "0                     2МЕН ГРУПП                2МЕН ГРУПП   \n",
              "1                     2МЕН ГРУПП                2МЕН ГРУПП   \n",
              "2                     2МЕН ГРУПП                2МЕН ГРУПП   \n",
              "3                     2МЕН ГРУПП                2МЕН ГРУПП   \n",
              "4           ААК ВОЛОГДААГРОСТРОЙ      ААК ВОЛОГДААГРОСТРОЙ   \n",
              "\n",
              "                       data.developer.devFullCleanNm  \\\n",
              "0                                         2МЕН ГРУПП   \n",
              "1                                         2МЕН ГРУПП   \n",
              "2                                         2МЕН ГРУПП   \n",
              "3                                         2МЕН ГРУПП   \n",
              "4  АКЦИОНЕРНАЯ АГРОСТРОИТЕЛЬНАЯ КОМПАНИЯВОЛОГДААГ...   \n",
              "\n",
              "   data.developer.problObjCnt  data.developer.buildObjCnt  ...  \\\n",
              "0                           0                           5  ...   \n",
              "1                           0                           5  ...   \n",
              "2                           0                           5  ...   \n",
              "3                           0                           5  ...   \n",
              "4                           0                           1  ...   \n",
              "\n",
              "   data.metro.colors data.transportDistIndex data.transportDistIndexValue  \\\n",
              "0                NaN                     NaN                          NaN   \n",
              "1                NaN                     NaN                          NaN   \n",
              "2                NaN                     NaN                          NaN   \n",
              "3                NaN                     NaN                          NaN   \n",
              "4                NaN                     NaN                          NaN   \n",
              "\n",
              "  data.complexShortNm data.airQualityIndexValue data.greenAreaIndexValue  \\\n",
              "0                 NaN                       NaN                      NaN   \n",
              "1                 NaN                       NaN                      NaN   \n",
              "2                 NaN                       NaN                      NaN   \n",
              "3                 NaN                       NaN                      NaN   \n",
              "4                 NaN                       NaN                      NaN   \n",
              "\n",
              "  data.developer.bankruptStage.bankruptStageCd  \\\n",
              "0                                          NaN   \n",
              "1                                          NaN   \n",
              "2                                          NaN   \n",
              "3                                          NaN   \n",
              "4                                          NaN   \n",
              "\n",
              "  data.developer.bankruptStage.bankruptStageDesc  \\\n",
              "0                                            NaN   \n",
              "1                                            NaN   \n",
              "2                                            NaN   \n",
              "3                                            NaN   \n",
              "4                                            NaN   \n",
              "\n",
              "  data.developer.bankruptStage.bankruptLawUrl  \\\n",
              "0                                         NaN   \n",
              "1                                         NaN   \n",
              "2                                         NaN   \n",
              "3                                         NaN   \n",
              "4                                         NaN   \n",
              "\n",
              "  data.developer.orgBankruptMsgDttm  \n",
              "0                               NaN  \n",
              "1                               NaN  \n",
              "2                               NaN  \n",
              "3                               NaN  \n",
              "4                               NaN  \n",
              "\n",
              "[5 rows x 111 columns]"
            ],
            "text/html": [
              "\n",
              "  <div id=\"df-51db20fb-8115-45ce-a209-506e10ffe722\" class=\"colab-df-container\">\n",
              "    <div>\n",
              "<style scoped>\n",
              "    .dataframe tbody tr th:only-of-type {\n",
              "        vertical-align: middle;\n",
              "    }\n",
              "\n",
              "    .dataframe tbody tr th {\n",
              "        vertical-align: top;\n",
              "    }\n",
              "\n",
              "    .dataframe thead th {\n",
              "        text-align: right;\n",
              "    }\n",
              "</style>\n",
              "<table border=\"1\" class=\"dataframe\">\n",
              "  <thead>\n",
              "    <tr style=\"text-align: right;\">\n",
              "      <th></th>\n",
              "      <th>errcode</th>\n",
              "      <th>data.id</th>\n",
              "      <th>data.hobjId</th>\n",
              "      <th>data.pdId</th>\n",
              "      <th>data.developer.devId</th>\n",
              "      <th>data.developer.devShortCleanNm</th>\n",
              "      <th>data.developer.devShortNm</th>\n",
              "      <th>data.developer.devFullCleanNm</th>\n",
              "      <th>data.developer.problObjCnt</th>\n",
              "      <th>data.developer.buildObjCnt</th>\n",
              "      <th>...</th>\n",
              "      <th>data.metro.colors</th>\n",
              "      <th>data.transportDistIndex</th>\n",
              "      <th>data.transportDistIndexValue</th>\n",
              "      <th>data.complexShortNm</th>\n",
              "      <th>data.airQualityIndexValue</th>\n",
              "      <th>data.greenAreaIndexValue</th>\n",
              "      <th>data.developer.bankruptStage.bankruptStageCd</th>\n",
              "      <th>data.developer.bankruptStage.bankruptStageDesc</th>\n",
              "      <th>data.developer.bankruptStage.bankruptLawUrl</th>\n",
              "      <th>data.developer.orgBankruptMsgDttm</th>\n",
              "    </tr>\n",
              "  </thead>\n",
              "  <tbody>\n",
              "    <tr>\n",
              "      <th>0</th>\n",
              "      <td>0</td>\n",
              "      <td>13397</td>\n",
              "      <td>37201</td>\n",
              "      <td>28141</td>\n",
              "      <td>306</td>\n",
              "      <td>2МЕН ГРУПП</td>\n",
              "      <td>2МЕН ГРУПП</td>\n",
              "      <td>2МЕН ГРУПП</td>\n",
              "      <td>0</td>\n",
              "      <td>5</td>\n",
              "      <td>...</td>\n",
              "      <td>NaN</td>\n",
              "      <td>NaN</td>\n",
              "      <td>NaN</td>\n",
              "      <td>NaN</td>\n",
              "      <td>NaN</td>\n",
              "      <td>NaN</td>\n",
              "      <td>NaN</td>\n",
              "      <td>NaN</td>\n",
              "      <td>NaN</td>\n",
              "      <td>NaN</td>\n",
              "    </tr>\n",
              "    <tr>\n",
              "      <th>1</th>\n",
              "      <td>0</td>\n",
              "      <td>13398</td>\n",
              "      <td>37165</td>\n",
              "      <td>28141</td>\n",
              "      <td>306</td>\n",
              "      <td>2МЕН ГРУПП</td>\n",
              "      <td>2МЕН ГРУПП</td>\n",
              "      <td>2МЕН ГРУПП</td>\n",
              "      <td>0</td>\n",
              "      <td>5</td>\n",
              "      <td>...</td>\n",
              "      <td>NaN</td>\n",
              "      <td>NaN</td>\n",
              "      <td>NaN</td>\n",
              "      <td>NaN</td>\n",
              "      <td>NaN</td>\n",
              "      <td>NaN</td>\n",
              "      <td>NaN</td>\n",
              "      <td>NaN</td>\n",
              "      <td>NaN</td>\n",
              "      <td>NaN</td>\n",
              "    </tr>\n",
              "    <tr>\n",
              "      <th>2</th>\n",
              "      <td>0</td>\n",
              "      <td>13391</td>\n",
              "      <td>37219</td>\n",
              "      <td>28101</td>\n",
              "      <td>306</td>\n",
              "      <td>2МЕН ГРУПП</td>\n",
              "      <td>2МЕН ГРУПП</td>\n",
              "      <td>2МЕН ГРУПП</td>\n",
              "      <td>0</td>\n",
              "      <td>5</td>\n",
              "      <td>...</td>\n",
              "      <td>NaN</td>\n",
              "      <td>NaN</td>\n",
              "      <td>NaN</td>\n",
              "      <td>NaN</td>\n",
              "      <td>NaN</td>\n",
              "      <td>NaN</td>\n",
              "      <td>NaN</td>\n",
              "      <td>NaN</td>\n",
              "      <td>NaN</td>\n",
              "      <td>NaN</td>\n",
              "    </tr>\n",
              "    <tr>\n",
              "      <th>3</th>\n",
              "      <td>0</td>\n",
              "      <td>13383</td>\n",
              "      <td>39024</td>\n",
              "      <td>28105</td>\n",
              "      <td>306</td>\n",
              "      <td>2МЕН ГРУПП</td>\n",
              "      <td>2МЕН ГРУПП</td>\n",
              "      <td>2МЕН ГРУПП</td>\n",
              "      <td>0</td>\n",
              "      <td>5</td>\n",
              "      <td>...</td>\n",
              "      <td>NaN</td>\n",
              "      <td>NaN</td>\n",
              "      <td>NaN</td>\n",
              "      <td>NaN</td>\n",
              "      <td>NaN</td>\n",
              "      <td>NaN</td>\n",
              "      <td>NaN</td>\n",
              "      <td>NaN</td>\n",
              "      <td>NaN</td>\n",
              "      <td>NaN</td>\n",
              "    </tr>\n",
              "    <tr>\n",
              "      <th>4</th>\n",
              "      <td>0</td>\n",
              "      <td>10891</td>\n",
              "      <td>6541</td>\n",
              "      <td>23054</td>\n",
              "      <td>3006</td>\n",
              "      <td>ААК ВОЛОГДААГРОСТРОЙ</td>\n",
              "      <td>ААК ВОЛОГДААГРОСТРОЙ</td>\n",
              "      <td>АКЦИОНЕРНАЯ АГРОСТРОИТЕЛЬНАЯ КОМПАНИЯВОЛОГДААГ...</td>\n",
              "      <td>0</td>\n",
              "      <td>1</td>\n",
              "      <td>...</td>\n",
              "      <td>NaN</td>\n",
              "      <td>NaN</td>\n",
              "      <td>NaN</td>\n",
              "      <td>NaN</td>\n",
              "      <td>NaN</td>\n",
              "      <td>NaN</td>\n",
              "      <td>NaN</td>\n",
              "      <td>NaN</td>\n",
              "      <td>NaN</td>\n",
              "      <td>NaN</td>\n",
              "    </tr>\n",
              "  </tbody>\n",
              "</table>\n",
              "<p>5 rows × 111 columns</p>\n",
              "</div>\n",
              "    <div class=\"colab-df-buttons\">\n",
              "\n",
              "  <div class=\"colab-df-container\">\n",
              "    <button class=\"colab-df-convert\" onclick=\"convertToInteractive('df-51db20fb-8115-45ce-a209-506e10ffe722')\"\n",
              "            title=\"Convert this dataframe to an interactive table.\"\n",
              "            style=\"display:none;\">\n",
              "\n",
              "  <svg xmlns=\"http://www.w3.org/2000/svg\" height=\"24px\" viewBox=\"0 -960 960 960\">\n",
              "    <path d=\"M120-120v-720h720v720H120Zm60-500h600v-160H180v160Zm220 220h160v-160H400v160Zm0 220h160v-160H400v160ZM180-400h160v-160H180v160Zm440 0h160v-160H620v160ZM180-180h160v-160H180v160Zm440 0h160v-160H620v160Z\"/>\n",
              "  </svg>\n",
              "    </button>\n",
              "\n",
              "  <style>\n",
              "    .colab-df-container {\n",
              "      display:flex;\n",
              "      gap: 12px;\n",
              "    }\n",
              "\n",
              "    .colab-df-convert {\n",
              "      background-color: #E8F0FE;\n",
              "      border: none;\n",
              "      border-radius: 50%;\n",
              "      cursor: pointer;\n",
              "      display: none;\n",
              "      fill: #1967D2;\n",
              "      height: 32px;\n",
              "      padding: 0 0 0 0;\n",
              "      width: 32px;\n",
              "    }\n",
              "\n",
              "    .colab-df-convert:hover {\n",
              "      background-color: #E2EBFA;\n",
              "      box-shadow: 0px 1px 2px rgba(60, 64, 67, 0.3), 0px 1px 3px 1px rgba(60, 64, 67, 0.15);\n",
              "      fill: #174EA6;\n",
              "    }\n",
              "\n",
              "    .colab-df-buttons div {\n",
              "      margin-bottom: 4px;\n",
              "    }\n",
              "\n",
              "    [theme=dark] .colab-df-convert {\n",
              "      background-color: #3B4455;\n",
              "      fill: #D2E3FC;\n",
              "    }\n",
              "\n",
              "    [theme=dark] .colab-df-convert:hover {\n",
              "      background-color: #434B5C;\n",
              "      box-shadow: 0px 1px 3px 1px rgba(0, 0, 0, 0.15);\n",
              "      filter: drop-shadow(0px 1px 2px rgba(0, 0, 0, 0.3));\n",
              "      fill: #FFFFFF;\n",
              "    }\n",
              "  </style>\n",
              "\n",
              "    <script>\n",
              "      const buttonEl =\n",
              "        document.querySelector('#df-51db20fb-8115-45ce-a209-506e10ffe722 button.colab-df-convert');\n",
              "      buttonEl.style.display =\n",
              "        google.colab.kernel.accessAllowed ? 'block' : 'none';\n",
              "\n",
              "      async function convertToInteractive(key) {\n",
              "        const element = document.querySelector('#df-51db20fb-8115-45ce-a209-506e10ffe722');\n",
              "        const dataTable =\n",
              "          await google.colab.kernel.invokeFunction('convertToInteractive',\n",
              "                                                    [key], {});\n",
              "        if (!dataTable) return;\n",
              "\n",
              "        const docLinkHtml = 'Like what you see? Visit the ' +\n",
              "          '<a target=\"_blank\" href=https://colab.research.google.com/notebooks/data_table.ipynb>data table notebook</a>'\n",
              "          + ' to learn more about interactive tables.';\n",
              "        element.innerHTML = '';\n",
              "        dataTable['output_type'] = 'display_data';\n",
              "        await google.colab.output.renderOutput(dataTable, element);\n",
              "        const docLink = document.createElement('div');\n",
              "        docLink.innerHTML = docLinkHtml;\n",
              "        element.appendChild(docLink);\n",
              "      }\n",
              "    </script>\n",
              "  </div>\n",
              "\n",
              "\n",
              "<div id=\"df-29318065-b9f9-4dcb-8f62-fd04159c9027\">\n",
              "  <button class=\"colab-df-quickchart\" onclick=\"quickchart('df-29318065-b9f9-4dcb-8f62-fd04159c9027')\"\n",
              "            title=\"Suggest charts\"\n",
              "            style=\"display:none;\">\n",
              "\n",
              "<svg xmlns=\"http://www.w3.org/2000/svg\" height=\"24px\"viewBox=\"0 0 24 24\"\n",
              "     width=\"24px\">\n",
              "    <g>\n",
              "        <path d=\"M19 3H5c-1.1 0-2 .9-2 2v14c0 1.1.9 2 2 2h14c1.1 0 2-.9 2-2V5c0-1.1-.9-2-2-2zM9 17H7v-7h2v7zm4 0h-2V7h2v10zm4 0h-2v-4h2v4z\"/>\n",
              "    </g>\n",
              "</svg>\n",
              "  </button>\n",
              "\n",
              "<style>\n",
              "  .colab-df-quickchart {\n",
              "      --bg-color: #E8F0FE;\n",
              "      --fill-color: #1967D2;\n",
              "      --hover-bg-color: #E2EBFA;\n",
              "      --hover-fill-color: #174EA6;\n",
              "      --disabled-fill-color: #AAA;\n",
              "      --disabled-bg-color: #DDD;\n",
              "  }\n",
              "\n",
              "  [theme=dark] .colab-df-quickchart {\n",
              "      --bg-color: #3B4455;\n",
              "      --fill-color: #D2E3FC;\n",
              "      --hover-bg-color: #434B5C;\n",
              "      --hover-fill-color: #FFFFFF;\n",
              "      --disabled-bg-color: #3B4455;\n",
              "      --disabled-fill-color: #666;\n",
              "  }\n",
              "\n",
              "  .colab-df-quickchart {\n",
              "    background-color: var(--bg-color);\n",
              "    border: none;\n",
              "    border-radius: 50%;\n",
              "    cursor: pointer;\n",
              "    display: none;\n",
              "    fill: var(--fill-color);\n",
              "    height: 32px;\n",
              "    padding: 0;\n",
              "    width: 32px;\n",
              "  }\n",
              "\n",
              "  .colab-df-quickchart:hover {\n",
              "    background-color: var(--hover-bg-color);\n",
              "    box-shadow: 0 1px 2px rgba(60, 64, 67, 0.3), 0 1px 3px 1px rgba(60, 64, 67, 0.15);\n",
              "    fill: var(--button-hover-fill-color);\n",
              "  }\n",
              "\n",
              "  .colab-df-quickchart-complete:disabled,\n",
              "  .colab-df-quickchart-complete:disabled:hover {\n",
              "    background-color: var(--disabled-bg-color);\n",
              "    fill: var(--disabled-fill-color);\n",
              "    box-shadow: none;\n",
              "  }\n",
              "\n",
              "  .colab-df-spinner {\n",
              "    border: 2px solid var(--fill-color);\n",
              "    border-color: transparent;\n",
              "    border-bottom-color: var(--fill-color);\n",
              "    animation:\n",
              "      spin 1s steps(1) infinite;\n",
              "  }\n",
              "\n",
              "  @keyframes spin {\n",
              "    0% {\n",
              "      border-color: transparent;\n",
              "      border-bottom-color: var(--fill-color);\n",
              "      border-left-color: var(--fill-color);\n",
              "    }\n",
              "    20% {\n",
              "      border-color: transparent;\n",
              "      border-left-color: var(--fill-color);\n",
              "      border-top-color: var(--fill-color);\n",
              "    }\n",
              "    30% {\n",
              "      border-color: transparent;\n",
              "      border-left-color: var(--fill-color);\n",
              "      border-top-color: var(--fill-color);\n",
              "      border-right-color: var(--fill-color);\n",
              "    }\n",
              "    40% {\n",
              "      border-color: transparent;\n",
              "      border-right-color: var(--fill-color);\n",
              "      border-top-color: var(--fill-color);\n",
              "    }\n",
              "    60% {\n",
              "      border-color: transparent;\n",
              "      border-right-color: var(--fill-color);\n",
              "    }\n",
              "    80% {\n",
              "      border-color: transparent;\n",
              "      border-right-color: var(--fill-color);\n",
              "      border-bottom-color: var(--fill-color);\n",
              "    }\n",
              "    90% {\n",
              "      border-color: transparent;\n",
              "      border-bottom-color: var(--fill-color);\n",
              "    }\n",
              "  }\n",
              "</style>\n",
              "\n",
              "  <script>\n",
              "    async function quickchart(key) {\n",
              "      const quickchartButtonEl =\n",
              "        document.querySelector('#' + key + ' button');\n",
              "      quickchartButtonEl.disabled = true;  // To prevent multiple clicks.\n",
              "      quickchartButtonEl.classList.add('colab-df-spinner');\n",
              "      try {\n",
              "        const charts = await google.colab.kernel.invokeFunction(\n",
              "            'suggestCharts', [key], {});\n",
              "      } catch (error) {\n",
              "        console.error('Error during call to suggestCharts:', error);\n",
              "      }\n",
              "      quickchartButtonEl.classList.remove('colab-df-spinner');\n",
              "      quickchartButtonEl.classList.add('colab-df-quickchart-complete');\n",
              "    }\n",
              "    (() => {\n",
              "      let quickchartButtonEl =\n",
              "        document.querySelector('#df-29318065-b9f9-4dcb-8f62-fd04159c9027 button');\n",
              "      quickchartButtonEl.style.display =\n",
              "        google.colab.kernel.accessAllowed ? 'block' : 'none';\n",
              "    })();\n",
              "  </script>\n",
              "</div>\n",
              "    </div>\n",
              "  </div>\n"
            ]
          },
          "metadata": {},
          "execution_count": 11
        }
      ],
      "source": [
        "df = pd.json_normalize(all_obj)\n",
        "df.head()"
      ],
      "metadata": {
        "pycharm": {
          "name": "#%%\n"
        },
        "id": "LHlS_M62VKlK",
        "colab": {
          "base_uri": "https://localhost:8080/",
          "height": 290
        },
        "outputId": "2692408d-0f2c-4d87-b59e-9b0409b9033c"
      }
    },
    {
      "cell_type": "code",
      "source": [
        "df.shape\n"
      ],
      "metadata": {
        "colab": {
          "base_uri": "https://localhost:8080/"
        },
        "id": "S4FWN9cfo0W_",
        "outputId": "0e62fd05-a146-4257-8c4b-a731d84071e3"
      },
      "execution_count": 12,
      "outputs": [
        {
          "output_type": "execute_result",
          "data": {
            "text/plain": [
              "(100, 111)"
            ]
          },
          "metadata": {},
          "execution_count": 12
        }
      ]
    },
    {
      "cell_type": "code",
      "source": [
        "\n",
        "# Сохраняем в csv файл\n",
        "df.to_csv('objects.csv', index=False)\n",
        "# Сохраняем в эксель-файл\n",
        "df.to_excel('objects.xlsx', index=False)\n",
        "# Сохраняем в файл в формате pickle\n",
        "df.to_pickle('objects.pkl')\n",
        "\n"
      ],
      "metadata": {
        "id": "TRxFCd3Ao3cf"
      },
      "execution_count": 14,
      "outputs": []
    },
    {
      "cell_type": "code",
      "source": [],
      "metadata": {
        "id": "QvUesXbJo3Wo"
      },
      "execution_count": null,
      "outputs": []
    },
    {
      "cell_type": "code",
      "source": [],
      "metadata": {
        "id": "Y8HFrx-so3Jm"
      },
      "execution_count": null,
      "outputs": []
    }
  ]
}